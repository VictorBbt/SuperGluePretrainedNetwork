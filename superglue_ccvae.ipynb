{
 "cells": [
  {
   "cell_type": "markdown",
   "metadata": {},
   "source": [
    "# SuperGlue\n",
    "\n",
    "We use the **SuperGlue** algorithm to try to match image pairs. The keypoints are automatically computed."
   ]
  },
  {
   "cell_type": "code",
   "execution_count": 13,
   "metadata": {},
   "outputs": [],
   "source": [
    "import match_pairs as mp\n",
    "import numpy as np\n",
    "from PIL import Image\n",
    "import torchvision.transforms as tfm\n",
    "import matplotlib.pyplot as plt\n",
    "import torch\n",
    "import os\n",
    "import random "
   ]
  },
  {
   "cell_type": "code",
   "execution_count": 14,
   "metadata": {},
   "outputs": [],
   "source": [
    "labels = [\"Eyeglasses\", \"Smiling\", \"Wearing_Necktie\"]"
   ]
  },
  {
   "cell_type": "code",
   "execution_count": 15,
   "metadata": {},
   "outputs": [],
   "source": [
    "img_folder = \"./data/celeba/feature_matching\"\n",
    "original = \"original.png\"\n",
    "hasLabel = True\n",
    "reconstructed = \"reconstructed.png\"\n",
    "inversed_label = f\"reconstructed_{hasLabel}.png\""
   ]
  },
  {
   "cell_type": "code",
   "execution_count": 16,
   "metadata": {},
   "outputs": [
    {
     "name": "stdout",
     "output_type": "stream",
     "text": [
      "./data/celeba/feature_matching\n"
     ]
    }
   ],
   "source": [
    "print(img_folder)"
   ]
  },
  {
   "cell_type": "code",
   "execution_count": 45,
   "metadata": {},
   "outputs": [],
   "source": [
    "def create_folder(path):\n",
    "    try:\n",
    "        # Use makedirs to create the folder and its parent directories if they don't exist\n",
    "        os.makedirs(path)\n",
    "        print(f\"Folder created at {path}\")\n",
    "    except FileExistsError:\n",
    "        print(f\"Folder already exists at {path}\")\n",
    "\n",
    "\n",
    "def create_text_file(file_path, input_name, subset_names):\n",
    "    try:\n",
    "        with open(file_path, 'w') as file:\n",
    "            for sub in subset_names:\n",
    "                file.write(f'{input_name} {sub}\\n')\n",
    "        print(f\"{file_path} text file created at {file_path}\")\n",
    "    except IOError:\n",
    "        print(f\"Error creating the text file at {file_path}\")"
   ]
  },
  {
   "cell_type": "code",
   "execution_count": 46,
   "metadata": {},
   "outputs": [],
   "source": [
    "def compute_matchings(folder_path, hasLabel):\n",
    "    out_path = folder_path + '/' + \"matchings\"\n",
    "    create_folder(out_path)\n",
    "    input_img = 'original.png'\n",
    "\n",
    "    to_compute = ['reconstructed.png', f'reconstructed_{not hasLabel}.png', 'real_smile.png']\n",
    "    create_text_file(f'{out_path}/pairs.txt', input_img, to_compute)\n",
    "    os.system(f'python3 match_pairs.py --viz --superglue \"indoor\" --input_pairs {out_path}/pairs.txt --input_dir {folder_path}/ --output_dir {out_path} --resize -1')\n"
   ]
  },
  {
   "cell_type": "code",
   "execution_count": 51,
   "metadata": {},
   "outputs": [],
   "source": [
    "hasLabelList = [52, 1, 16, 20, 42, 31]\n",
    "# labels = [\"Eyeglasses\", \"Smiling\", \"Wearing_Necktie\"]\n",
    "labels = [\"Smiling\"]\n",
    "\n",
    "def get_all_matchings(img_folder_pth):\n",
    "\n",
    "    for lab in labels:\n",
    "        folder_label = img_folder_pth+'/'+lab\n",
    "\n",
    "        for img_dir in os.listdir(folder_label):\n",
    "            if(img_dir=='img1'):\n",
    "                index_img = int(img_dir[3:])\n",
    "                img_paths = folder_label + '/' + img_dir\n",
    "                compute_matchings(img_paths, index_img in hasLabelList)"
   ]
  },
  {
   "cell_type": "code",
   "execution_count": 52,
   "metadata": {},
   "outputs": [
    {
     "name": "stdout",
     "output_type": "stream",
     "text": [
      "Folder already exists at ./data/celeba/feature_matching/Smiling/img1/matchings\n",
      "./data/celeba/feature_matching/Smiling/img1/matchings/pairs.txt text file created at ./data/celeba/feature_matching/Smiling/img1/matchings/pairs.txt\n",
      "Namespace(input_pairs='./data/celeba/feature_matching/Smiling/img1/matchings/pairs.txt', input_dir='./data/celeba/feature_matching/Smiling/img1/', output_dir='./data/celeba/feature_matching/Smiling/img1/matchings', max_length=-1, resize=[-1], resize_float=False, superglue='indoor', max_keypoints=1024, keypoint_threshold=0.005, nms_radius=4, sinkhorn_iterations=20, match_threshold=0.2, viz=True, eval=False, fast_viz=False, cache=False, show_keypoints=False, viz_extension='png', opencv_display=False, shuffle=False, force_cpu=False)\n",
      "Will not resize images\n",
      "Running inference on device \"cpu\"\n",
      "Loaded SuperPoint model\n",
      "Loaded SuperGlue model (\"indoor\" weights)\n",
      "Looking for data in directory \"data/celeba/feature_matching/Smiling/img1\"\n",
      "Will write matches to directory \"data/celeba/feature_matching/Smiling/img1/matchings\"\n",
      "Will write visualization images to directory \"data/celeba/feature_matching/Smiling/img1/matchings\"\n",
      "Warning: input resolution is very small, results may vary\n",
      "Warning: input resolution is very small, results may vary\n",
      "[Finished pair     0 of     3] load_image=0.015 matcher=0.160 viz_match=0.229 total=0.405 sec {2.5 FPS} \n",
      "Warning: input resolution is very small, results may vary\n",
      "Warning: input resolution is very small, results may vary\n",
      "[Finished pair     1 of     3] load_image=0.011 matcher=0.126 viz_match=0.217 total=0.355 sec {2.8 FPS} \n",
      "Warning: input resolution is very small, results may vary\n",
      "Warning: input resolution is very small, results may vary\n",
      "[Finished pair     2 of     3] load_image=0.008 matcher=0.107 viz_match=0.211 total=0.326 sec {3.1 FPS} \n"
     ]
    }
   ],
   "source": [
    "get_all_matchings(img_folder)"
   ]
  },
  {
   "cell_type": "markdown",
   "metadata": {},
   "source": []
  }
 ],
 "metadata": {
  "kernelspec": {
   "display_name": "base",
   "language": "python",
   "name": "python3"
  },
  "language_info": {
   "codemirror_mode": {
    "name": "ipython",
    "version": 3
   },
   "file_extension": ".py",
   "mimetype": "text/x-python",
   "name": "python",
   "nbconvert_exporter": "python",
   "pygments_lexer": "ipython3",
   "version": "3.9.18"
  }
 },
 "nbformat": 4,
 "nbformat_minor": 2
}
